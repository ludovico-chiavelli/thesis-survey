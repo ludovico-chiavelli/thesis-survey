{
 "cells": [
  {
   "cell_type": "markdown",
   "id": "d6257009",
   "metadata": {},
   "source": [
    "# Analysing rewrite question answers with edit distance\n",
    "\n",
    "As the rewrite answers were inconsistent in length and validity (some people just put in token submissions), I've personally sampled four rewrites and compared their Levenshtein edit distances."
   ]
  },
  {
   "cell_type": "code",
   "execution_count": 1,
   "id": "0d9e4346",
   "metadata": {},
   "outputs": [],
   "source": [
    "# Sample texts. Name of the question is the key, and I've specified the response ID also.\n",
    "\n",
    "texts = {\n",
    "    \"ChoiceBA0\": {\n",
    "        \"servey_set\": 1,\n",
    "        \"response_id\": \"R_3gnImmcOVIfpDVn\",\n",
    "        \"whyq_response\": \"Text 2 sounds less human, since it is a dry collection of statements.\",\n",
    "        \"original_text\": \"The definition of political power is the ability to make choices and get others to do things that they would not otherwise do. This is the case because in politics, people often use their authority or influence to get others to conform to their wishes or follow certain rules or guidelines that are set by\",\n",
    "        \"response_text\": \"One may argue that the definition of political power is the ability to make choices and get others to do things that they would not otherwise do. It is perhaps debatable since in politics people often use their authority or influence to get others to conform to their wishes or follow certain rules or guidelines that are set by\"\n",
    "    },\n",
    "\n",
    "    \"ChoiceEF11\": {\n",
    "        \"servey_set\": 8,\n",
    "        \"response_id\": \"R_2r1Y11dxZ2pjPBe\",\n",
    "        \"whyq_response\": \"I chose text 2 to be AI-generated because the mistakes made in the text seem illogical. The writer seems to know proper structuring, using commas and hyphens, but cannot write \\\"engine\\\" correctly.\",\n",
    "        \"original_text\": \"vandalism in the local newsagents! yesterday, a young woman leaved from a Coffee not with a coffee in one hand and her laptop and in the other, her handbag over the shoulder when she heard a big noise on the corner. She saw a young couple outside their car - left engining turning and stereo playing\",\n",
    "        \"response_text\": \"vandalism in the local newsagents! yesterday a young woman leaved from a Coffee not with a coffee in one hand and her laptop and in the other her handbag, over the shoulder when she heard a big noise on the corner. She saw a young couple outside their car left engining turning and stereo playing\"\n",
    "    },\n",
    "\n",
    "    \"RateEF11\": {\n",
    "        \"servey_set\": 8,\n",
    "        \"response_id\": \"R_5iDRu7Nk4WvRb2A\",\n",
    "        \"whyq_response\": \"The writing is a more simplistic style, but it is not indicative of either AI or human authorship. I honestly have no idea.\",\n",
    "        \"original_text\": \"Wow, it would be really fun to go to Sarah's party, but I already have plans that night. I really don't want to make Sarah disappointed, so I need to find a way to politely turn down her invitation. Here's what I can say: \\\"Hey Sarah, thanks so much for inviting me to your party! I really appreciate it. Unfortunately, I already have something else planned for that night. I'm so sorry to miss out on the fun, but I hope you have a great time!\\\" How does\",\n",
    "        \"response_text\": \"Wow, it would be really fun to go to Sarah's party, but I already have plans that night. I really don't want to make Sarah disappointed, so I need to find a way to politely turn down her invitation. I know what I can say: \\\"Hey Sarah, thanks so much for inviting me to your party! I really appreciate it. Unfortunately, I already have something else planned for that night. I'm so sorry to miss out on the fun, but I hope you have a great time!\\\" How does\"\n",
    "    },\n",
    "\n",
    "    \"RateBA6\": {\n",
    "        \"servey_set\": 5,\n",
    "        \"response_id\": \"R_2N3295pEVvdbPAR\",\n",
    "        \"whyq_response\": \"Quite storytelling like, I would expect an AI to be more frank and straightforward, telling a series of facts rather than a narrative\",\n",
    "        \"original_text\": \"But why did Americans, in particular, embrace this ambitious architectural pursuit? The answer lies within a complex interplay of economic prosperity, rapid urbanization, and a distinctive cultural spirit of innovation and progress. During the late 19th and early 20th centuries, the United States experienced an unprecedented era of industrialization and economic growth. Massive fortunes were amassed, leading to an influx of capital and a surging demand for office space in rapidly expanding cities like New York, Chicago, and Philadelphia. Traditional, low-rise buildings simply could not accommodate the burgeoning\",\n",
    "        \"response_text\": \"But why did Americans, in particular, embrace this ambitious architectural pursuit? The answer lies within a complex interplay of economic prosperity, rapid urbanization, and a distinctive cultural spirit of innovation and progress. During the late 19th and early 20th centuries, the United States experienced an unprecedented era of industrialization and economic growth. Massive fortunes were amassed, leading to an influx of capital and a surging demand for office space in rapidly expanding cities like New York, Chicago, and Philadelphia, whilst traditional, low-rise buildings simply could not accommodate the burgeoning\"\n",
    "    },\n",
    "}"
   ]
  },
  {
   "cell_type": "markdown",
   "id": "122a5254",
   "metadata": {},
   "source": [
    "## Levenshtein edit distance measurements\n"
   ]
  },
  {
   "cell_type": "code",
   "execution_count": null,
   "id": "8fb7d7b7",
   "metadata": {},
   "outputs": [
    {
     "name": "stdout",
     "output_type": "stream",
     "text": [
      "Collecting python-Levenshtein\n",
      "  Downloading python_levenshtein-0.27.1-py3-none-any.whl (9.4 kB)\n",
      "Requirement already satisfied: Levenshtein==0.27.1 in /home/nuvolari/.pyenv/versions/3.10.12/envs/llm-detector-venv/lib/python3.10/site-packages (from python-Levenshtein) (0.27.1)\n",
      "Requirement already satisfied: rapidfuzz<4.0.0,>=3.9.0 in /home/nuvolari/.pyenv/versions/3.10.12/envs/llm-detector-venv/lib/python3.10/site-packages (from Levenshtein==0.27.1->python-Levenshtein) (3.13.0)\n",
      "Installing collected packages: python-Levenshtein\n",
      "Successfully installed python-Levenshtein-0.27.1\n",
      "\n",
      "\u001b[1m[\u001b[0m\u001b[34;49mnotice\u001b[0m\u001b[1;39;49m]\u001b[0m\u001b[39;49m A new release of pip is available: \u001b[0m\u001b[31;49m23.0.1\u001b[0m\u001b[39;49m -> \u001b[0m\u001b[32;49m25.0.1\u001b[0m\n",
      "\u001b[1m[\u001b[0m\u001b[34;49mnotice\u001b[0m\u001b[1;39;49m]\u001b[0m\u001b[39;49m To update, run: \u001b[0m\u001b[32;49mpip install --upgrade pip\u001b[0m\n",
      "Note: you may need to restart the kernel to use updated packages.\n",
      "Levenshtein distance for ChoiceBA0: 42\n",
      "Levenshtein distance for ChoiceEF11: 5\n",
      "Levenshtein distance for RateEF11: 6\n",
      "Levenshtein distance for RateBA6: 9\n"
     ]
    }
   ],
   "source": [
    "%pip install python-Levenshtein\n",
    "\n",
    "import Levenshtein as levenshtein\n",
    "import json\n",
    "\n",
    "# Calculate the Levenshtein distance for all texts\n",
    "for key, value in texts.items():\n",
    "    original_text = value[\"original_text\"]\n",
    "    response_text = value[\"response_text\"]\n",
    "\n",
    "    distance = levenshtein.distance(original_text, response_text)\n",
    "    \n",
    "    texts[key][\"levenshtein_distance\"] = distance\n",
    "    print(f\"Levenshtein distance for {key}: {distance}\")\n",
    "\n"
   ]
  },
  {
   "cell_type": "markdown",
   "id": "35574634",
   "metadata": {},
   "source": [
    "## Difference higlights"
   ]
  },
  {
   "cell_type": "code",
   "execution_count": 7,
   "id": "86bfe635",
   "metadata": {},
   "outputs": [
    {
     "name": "stdout",
     "output_type": "stream",
     "text": [
      "Highlighted differences for ChoiceBA0:\n",
      "Original: \\sethlcolor{lightyellow}\\hl{T}he definition of political power is the ability to make choices and get others to do things that they would not otherwise do. \\sethlcolor{lightyellow}\\hl{T}\\sethlcolor{lightyellow}\\hl{h}\\sethlcolor{lightred}\\hl{i}\\sethlcolor{lightred}\\hl{s} is \\sethlcolor{lightyellow}\\hl{t}\\sethlcolor{lightred}\\hl{h}e\\sethlcolor{lightyellow}\\hl{ }\\sethlcolor{lightyellow}\\hl{c}ase\\sethlcolor{lightyellow}\\hl{ }be\\sethlcolor{lightyellow}\\hl{c}\\sethlcolor{lightyellow}\\hl{a}\\sethlcolor{lightyellow}\\hl{u}\\sethlcolor{lightyellow}\\hl{s}e in politics\\sethlcolor{lightred}\\hl{,} people often use their authority or influence to get others to conform to their wishes or follow certain rules or guidelines that are set by\n",
      "Response: \\sethlcolor{lightgreen}\\hl{O}\\sethlcolor{lightgreen}\\hl{n}\\sethlcolor{lightgreen}\\hl{e}\\sethlcolor{lightgreen}\\hl{ }\\sethlcolor{lightgreen}\\hl{m}\\sethlcolor{lightgreen}\\hl{a}\\sethlcolor{lightgreen}\\hl{y}\\sethlcolor{lightgreen}\\hl{ }\\sethlcolor{lightgreen}\\hl{a}\\sethlcolor{lightgreen}\\hl{r}\\sethlcolor{lightgreen}\\hl{g}\\sethlcolor{lightgreen}\\hl{u}\\sethlcolor{lightgreen}\\hl{e}\\sethlcolor{lightgreen}\\hl{ }\\sethlcolor{lightyellow}\\hl{t}h\\sethlcolor{lightgreen}\\hl{a}\\sethlcolor{lightgreen}\\hl{t}\\sethlcolor{lightgreen}\\hl{ }\\sethlcolor{lightgreen}\\hl{t}\\sethlcolor{lightgreen}\\hl{h}e definition of political power is the ability to make choices and get others to do things that they would not otherwise do. \\sethlcolor{lightyellow}\\hl{I}\\sethlcolor{lightyellow}\\hl{t} is \\sethlcolor{lightyellow}\\hl{p}e\\sethlcolor{lightyellow}\\hl{r}\\sethlcolor{lightyellow}\\hl{h}a\\sethlcolor{lightgreen}\\hl{p}s\\sethlcolor{lightgreen}\\hl{ }\\sethlcolor{lightgreen}\\hl{d}e\\sethlcolor{lightgreen}\\hl{b}\\sethlcolor{lightgreen}\\hl{a}\\sethlcolor{lightgreen}\\hl{t}\\sethlcolor{lightyellow}\\hl{a}b\\sethlcolor{lightgreen}\\hl{l}e\\sethlcolor{lightgreen}\\hl{ }\\sethlcolor{lightyellow}\\hl{s}\\sethlcolor{lightyellow}\\hl{i}\\sethlcolor{lightyellow}\\hl{n}\\sethlcolor{lightyellow}\\hl{c}e in politics people often use their authority or influence to get others to conform to their wishes or follow certain rules or guidelines that are set by\n",
      "\n",
      "\n",
      "Highlighted differences for ChoiceEF11:\n",
      "Original: vandalism in the local newsagents! yesterday\\sethlcolor{lightred}\\hl{,} a young woman leaved from a Coffee not with a coffee in one hand and her laptop and in the other\\sethlcolor{lightred}\\hl{,} her handbag over the shoulder when she heard a big noise on the corner. She saw a young couple outside their car\\sethlcolor{lightred}\\hl{ }\\sethlcolor{lightred}\\hl{-} left engining turning and stereo playing\n",
      "Response: vandalism in the local newsagents! yesterday a young woman leaved from a Coffee not with a coffee in one hand and her laptop and in the other her handbag\\sethlcolor{lightgreen}\\hl{,} over the shoulder when she heard a big noise on the corner. She saw a young couple outside their car left engining turning and stereo playing\n",
      "\n",
      "\n",
      "Highlighted differences for RateEF11:\n",
      "Original: Wow, it would be really fun to go to Sarah's party, but I already have plans that night. I really don't want to make Sarah disappointed, so I need to find a way to politely turn down her invitation. \\sethlcolor{lightyellow}\\hl{H}\\sethlcolor{lightyellow}\\hl{e}\\sethlcolor{lightyellow}\\hl{r}\\sethlcolor{lightyellow}\\hl{e}\\sethlcolor{lightyellow}\\hl{'}\\sethlcolor{lightyellow}\\hl{s} what I can say: \"Hey Sarah, thanks so much for inviting me to your party! I really appreciate it. Unfortunately, I already have something else planned for that night. I'm so sorry to miss out on the fun, but I hope you have a great time!\" How does\n",
      "Response: Wow, it would be really fun to go to Sarah's party, but I already have plans that night. I really don't want to make Sarah disappointed, so I need to find a way to politely turn down her invitation. \\sethlcolor{lightyellow}\\hl{I}\\sethlcolor{lightyellow}\\hl{ }\\sethlcolor{lightyellow}\\hl{k}\\sethlcolor{lightyellow}\\hl{n}\\sethlcolor{lightyellow}\\hl{o}\\sethlcolor{lightyellow}\\hl{w} what I can say: \"Hey Sarah, thanks so much for inviting me to your party! I really appreciate it. Unfortunately, I already have something else planned for that night. I'm so sorry to miss out on the fun, but I hope you have a great time!\" How does\n",
      "\n",
      "\n",
      "Highlighted differences for RateBA6:\n",
      "Original: But why did Americans, in particular, embrace this ambitious architectural pursuit? The answer lies within a complex interplay of economic prosperity, rapid urbanization, and a distinctive cultural spirit of innovation and progress. During the late 19th and early 20th centuries, the United States experienced an unprecedented era of industrialization and economic growth. Massive fortunes were amassed, leading to an influx of capital and a surging demand for office space in rapidly expanding cities like New York, Chicago, and Philadelphia\\sethlcolor{lightyellow}\\hl{.} \\sethlcolor{lightyellow}\\hl{T}raditional, low-rise buildings simply could not accommodate the burgeoning\n",
      "Response: But why did Americans, in particular, embrace this ambitious architectural pursuit? The answer lies within a complex interplay of economic prosperity, rapid urbanization, and a distinctive cultural spirit of innovation and progress. During the late 19th and early 20th centuries, the United States experienced an unprecedented era of industrialization and economic growth. Massive fortunes were amassed, leading to an influx of capital and a surging demand for office space in rapidly expanding cities like New York, Chicago, and Philadelphia\\sethlcolor{lightyellow}\\hl{,} \\sethlcolor{lightgreen}\\hl{w}\\sethlcolor{lightgreen}\\hl{h}\\sethlcolor{lightgreen}\\hl{i}\\sethlcolor{lightgreen}\\hl{l}\\sethlcolor{lightgreen}\\hl{s}\\sethlcolor{lightgreen}\\hl{t}\\sethlcolor{lightgreen}\\hl{ }\\sethlcolor{lightyellow}\\hl{t}raditional, low-rise buildings simply could not accommodate the burgeoning\n",
      "\n",
      "\n"
     ]
    }
   ],
   "source": [
    "from Levenshtein import editops\n",
    "\n",
    "def highlight_differences(original, response):\n",
    "    \"\"\"\n",
    "    Highlights the differences between the original and response texts and prints them with latex formatting.\n",
    "\n",
    "    Docs for editops at https://rapidfuzz.github.io/Levenshtein/levenshtein.html#Levenshtein.editops\n",
    "    Args:\n",
    "        original (str): The original text.\n",
    "        response (str): The response text.\n",
    "    Returns:\n",
    "        None\n",
    "    \"\"\"\n",
    "    ops = editops(original, response)\n",
    "    original_highlighted = list(original)\n",
    "    response_highlighted = list(response)\n",
    "\n",
    "    # Apply highlights for each operation\n",
    "    for op, i, j in ops:\n",
    "        if op == 'replace':\n",
    "            original_highlighted[i] = r\"\\sethlcolor{lightyellow}\\hl{\" + str(original[i]) + r\"}\"\n",
    "            response_highlighted[j] = r\"\\sethlcolor{lightyellow}\\hl{\" + str(response[j]) + r\"}\"\n",
    "        elif op == 'delete':\n",
    "            original_highlighted[i] = r\"\\sethlcolor{lightred}\\hl{\" + str(original[i]) + r\"}\"\n",
    "        elif op == 'insert':\n",
    "            response_highlighted[j] = r\"\\sethlcolor{lightgreen}\\hl{\" + str(response[j]) + r\"}\"\n",
    "\n",
    "    # Join the highlighted text back into strings\n",
    "    original_highlighted = ''.join(original_highlighted)\n",
    "    response_highlighted = ''.join(response_highlighted)\n",
    "\n",
    "    return original_highlighted, response_highlighted\n",
    "\n",
    "# Highlight differences for all texts\n",
    "for key, value in texts.items():\n",
    "    original_text = value[\"original_text\"]\n",
    "    response_text = value[\"response_text\"]\n",
    "\n",
    "    original_highlighted, response_highlighted = highlight_differences(original_text, response_text)\n",
    "\n",
    "    # Print the highlighted differences\n",
    "    print(f\"Highlighted differences for {key}:\")\n",
    "    print(\"Original:\", original_highlighted)\n",
    "    print(\"Response:\", response_highlighted)\n",
    "    print(\"\\n\")"
   ]
  }
 ],
 "metadata": {
  "kernelspec": {
   "display_name": "llm-detector-venv",
   "language": "python",
   "name": "python3"
  },
  "language_info": {
   "codemirror_mode": {
    "name": "ipython",
    "version": 3
   },
   "file_extension": ".py",
   "mimetype": "text/x-python",
   "name": "python",
   "nbconvert_exporter": "python",
   "pygments_lexer": "ipython3",
   "version": "3.10.12"
  }
 },
 "nbformat": 4,
 "nbformat_minor": 5
}
